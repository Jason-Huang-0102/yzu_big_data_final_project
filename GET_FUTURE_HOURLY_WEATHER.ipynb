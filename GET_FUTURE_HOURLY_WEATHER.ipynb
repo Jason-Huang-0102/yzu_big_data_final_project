{
 "cells": [
  {
   "cell_type": "code",
   "execution_count": 80,
   "metadata": {},
   "outputs": [],
   "source": [
    "from bs4 import BeautifulSoup\n",
    "from urllib.request import Request, urlopen\n",
    "import numpy\n",
    "import re\n",
    "import string"
   ]
  },
  {
   "cell_type": "code",
   "execution_count": 81,
   "metadata": {},
   "outputs": [],
   "source": [
    "taipei_req = Request('https://weather.com/weather/hourbyhour/l/74fa72e237fc1737b20f120d74160a01d04e634ef78f96b3e76e9047acac201a', headers={'User-Agent': 'Mozilla/5.0'})\n",
    "nangang_req = Request('https://weather.com/weather/hourbyhour/l/fd7431ad84264a82af4b40edf4a2f39f81f53d83d2de976d8c33ddb01fcdef76', headers={'User-Agent': 'Mozilla/5.0'})\n",
    "banqiao_req = Request('https://weather.com/weather/hourbyhour/l/0e5e6557b2aed2af45d4b5eb0ea0a8a77778551f6108d1ec13dd384f4daa3658', headers={'User-Agent': 'Mozilla/5.0'})\n",
    "req = [taipei_req,nangang_req,banqiao_req]"
   ]
  },
  {
   "cell_type": "code",
   "execution_count": 82,
   "metadata": {},
   "outputs": [],
   "source": [
    "#取日期\n",
    "def get_date(soup):\n",
    "    date = []\n",
    "    day = []\n",
    "    for link in soup.findAll('h3',attrs={'class': re.compile(\"HourlyForecast--longDate--3khKr\")}):\n",
    "        s = link.get_text().replace('January', '2021/1/')\n",
    "        s = s.replace(\" \",\"\")\n",
    "        buffer = s.split(\",\")\n",
    "        day.append(buffer[0])\n",
    "        date.append(buffer[1])\n",
    "    #     print(date)\n",
    "    return date,day\n",
    "    # print(len(day))"
   ]
  },
  {
   "cell_type": "code",
   "execution_count": 83,
   "metadata": {},
   "outputs": [],
   "source": [
    "#取時間\n",
    "def get_time_hr(soup):\n",
    "    time_hr = []\n",
    "    for link in soup.findAll('h2',attrs={'data-testid': re.compile(\"daypartName\")}):\n",
    "        if link.get_text()[len(link.get_text())-2] == 'p':\n",
    "            time = int(link.get_text()[:len(link.get_text())-3]) + 13\n",
    "        else:\n",
    "            time = int(link.get_text()[:len(link.get_text())-3]) + 1\n",
    "\n",
    "        if time > 24:\n",
    "            time = time - 24\n",
    "\n",
    "        if link.get_text() == \"12 am\":\n",
    "            time = 1\n",
    "        elif link.get_text() == \"12 pm\":\n",
    "            time = 13\n",
    "\n",
    "        time_hr.append(time)\n",
    "    return time_hr\n",
    "    #     print(link.get_text())\n",
    "    #     print(time)\n",
    "#     print(time_hr)"
   ]
  },
  {
   "cell_type": "code",
   "execution_count": 84,
   "metadata": {},
   "outputs": [],
   "source": [
    "#取氣溫\n",
    "def get_temperature(soup):\n",
    "    temperature = []\n",
    "    for link in soup.findAll(\"span\",class_ = \"DetailsTable--value--1F3Ze\",attrs={'data-testid': re.compile(\"TemperatureValue\")}):\n",
    "        t = int(link.get_text()[:len(link.get_text())-1])\n",
    "        t = (t -32) * 5 / 9\n",
    "        temperature.append(round(t,1))\n",
    "    #     print(round(t,1))\n",
    "#     print(len(temperature))\n",
    "    return temperature"
   ]
  },
  {
   "cell_type": "code",
   "execution_count": 85,
   "metadata": {},
   "outputs": [],
   "source": [
    "#取下雨情況\n",
    "def get_rainy_txt(soup):\n",
    "    rainy_txt = []\n",
    "    for link in soup.findAll('span',attrs={'class': re.compile(\"DetailsSummary--extendedData--aaFeV\")}):\n",
    "        rainy_txt.append(link.get_text())\n",
    "    #     print(link.get_text())\n",
    "#     print(len(rainy_txt))\n",
    "    return rainy_txt"
   ]
  },
  {
   "cell_type": "code",
   "execution_count": 86,
   "metadata": {},
   "outputs": [],
   "source": [
    "#取降雨機率\n",
    "def get_rainy_percent(soup):\n",
    "    rainy_percent = []\n",
    "    for link in soup.findAll(\"div\",attrs={'class': re.compile(\"DetailsSummary--precip--2ARnx\")}):\n",
    "    #     print(link)\n",
    "        for link2 in link.findAll('span',attrs={'data-testid': re.compile(\"PercentageValue\")}):\n",
    "            rainy_percent.append(link2.get_text()[:len(link.get_text())-1])\n",
    "    #         print(link2.get_text())\n",
    "#     print(len(rainy_percent))\n",
    "    return rainy_percent"
   ]
  },
  {
   "cell_type": "code",
   "execution_count": 87,
   "metadata": {},
   "outputs": [],
   "source": [
    "#取風向大小\n",
    "def get_wind(soup):\n",
    "    wind = []\n",
    "    for link in soup.findAll(\"div\",attrs={'data-testid': re.compile(\"wind\")}):\n",
    "    #     print(link)\n",
    "        for link2 in link.findAll('span',attrs={'data-testid': re.compile(\"Wind\")}):\n",
    "            wind.append(link2.get_text())\n",
    "    #         print(link2.get_text())\n",
    "#     print(len(wind))\n",
    "    return wind"
   ]
  },
  {
   "cell_type": "code",
   "execution_count": 88,
   "metadata": {},
   "outputs": [],
   "source": [
    "#取濕度\n",
    "def get_humidity(soup):\n",
    "    humidity = []\n",
    "    for link in soup.findAll(\"span\",class_ = \"DetailsTable--value--1F3Ze\",attrs={'data-testid': re.compile(\"PercentageValue\")}):\n",
    "        humidity.append(link.get_text()[:len(link.get_text())-1])\n",
    "    #     print(type(link.get_text()))\n",
    "#     print(len(humidity))\n",
    "    return humidity"
   ]
  },
  {
   "cell_type": "code",
   "execution_count": 89,
   "metadata": {},
   "outputs": [],
   "source": [
    "name = [\"taipei\", \"nangang\", \"banqiao\"]\n",
    "for r in range(len(req)):\n",
    "    webpage = urlopen(req[r]).read()\n",
    "    soup = BeautifulSoup(webpage)\n",
    "\n",
    "    date,day = get_date(soup)\n",
    "    time_hr = get_time_hr(soup)\n",
    "    temperature = get_temperature(soup)\n",
    "    rainy_txt = get_rainy_txt(soup)\n",
    "    rainy_percent = get_rainy_percent(soup)\n",
    "    wind = get_wind(soup)\n",
    "    humidity = get_humidity(soup)\n",
    "\n",
    "    data = []\n",
    "    buffer = [\"day\", \"date\", \"time_hr\", \"temperature\", \"rainy_txt\", \"rainy_percent\", \"wind\", \"humidity\"]\n",
    "    data.append(buffer)\n",
    "\n",
    "    num = 0\n",
    "    for i in range(len(time_hr)):\n",
    "        buffer = []\n",
    "        buffer.append(day[num])\n",
    "        buffer.append(date[num])\n",
    "        buffer.append(time_hr[i])\n",
    "        buffer.append(temperature[i])\n",
    "        buffer.append(rainy_txt[i])\n",
    "        buffer.append(rainy_percent[i])\n",
    "        buffer.append(wind[i])\n",
    "        buffer.append(humidity[i])\n",
    "        data.append(buffer)\n",
    "    #     print(time_hr[i])\n",
    "    #     print(\"num\",num)\n",
    "        if time_hr[i] == 24:\n",
    "            num = num + 1\n",
    "\n",
    "    numpy.savetxt(name[r] + \"_future_48hr_weather.csv\", data, fmt='%s',delimiter=\",\")"
   ]
  },
  {
   "cell_type": "code",
   "execution_count": 90,
   "metadata": {},
   "outputs": [],
   "source": [
    "##星期 day 3\n",
    "#日期 date 3\n",
    "#時間 time_hr 48\n",
    "#氣溫 temperature 48\n",
    "#下雨情況 rainy_txt 48\n",
    "#降雨機率 rainy_percent 48\n",
    "#風向大小 wind 48\n",
    "#濕度 humidity 48\n",
    "#taipei\n",
    "#nangang\n",
    "#banqiao"
   ]
  },
  {
   "cell_type": "code",
   "execution_count": null,
   "metadata": {},
   "outputs": [],
   "source": []
  },
  {
   "cell_type": "code",
   "execution_count": 91,
   "metadata": {},
   "outputs": [],
   "source": [
    "import pandas as pd\n",
    "import numpy as np\n",
    "pd.options.mode.chained_assignment = None"
   ]
  },
  {
   "cell_type": "code",
   "execution_count": 92,
   "metadata": {},
   "outputs": [],
   "source": [
    "from sklearn.model_selection import train_test_split\n",
    "from sklearn.ensemble import RandomForestClassifier"
   ]
  },
  {
   "cell_type": "code",
   "execution_count": 93,
   "metadata": {},
   "outputs": [],
   "source": [
    "#train data\n",
    "data= pd.read_csv('./mrt_weather.csv')"
   ]
  },
  {
   "cell_type": "code",
   "execution_count": 94,
   "metadata": {},
   "outputs": [],
   "source": [
    "station2label={'南港':1, '台北車站':2, '板橋':3}\n",
    "for i in range(len(data)):\n",
    "    data['進站'][i]=station2label[data['進站'][i]]"
   ]
  },
  {
   "cell_type": "code",
   "execution_count": 95,
   "metadata": {},
   "outputs": [],
   "source": [
    "X=data[['進站', '時段', '氣溫(℃)', '相對溼度(%)' ]]\n",
    "Y=data['人次']\n",
    "# print(X)\n",
    "# print(Y)"
   ]
  },
  {
   "cell_type": "code",
   "execution_count": 96,
   "metadata": {},
   "outputs": [],
   "source": [
    "X_train, X_test, Y_train, Y_test= train_test_split(X, Y, test_size=0.25, random_state=33)"
   ]
  },
  {
   "cell_type": "code",
   "execution_count": 97,
   "metadata": {},
   "outputs": [],
   "source": [
    "test = RandomForestClassifier()\n",
    "test.fit(X_train, Y_train)\n",
    "predict=test.predict(X_test)"
   ]
  },
  {
   "cell_type": "code",
   "execution_count": 98,
   "metadata": {},
   "outputs": [
    {
     "name": "stdout",
     "output_type": "stream",
     "text": [
      "         day       date  time_hr  temperature      rainy_txt  rainy_percent  \\\n",
      "0   Thursday  2021/1/14       16         20.6   Mostly Sunny              0   \n",
      "1   Thursday  2021/1/14       17         19.4   Mostly Sunny              0   \n",
      "2   Thursday  2021/1/14       18         17.8          Sunny              0   \n",
      "3   Thursday  2021/1/14       19         16.1          Clear              0   \n",
      "4   Thursday  2021/1/14       20         15.0          Clear              0   \n",
      "5   Thursday  2021/1/14       21         13.9          Clear              0   \n",
      "6   Thursday  2021/1/14       22         13.3          Clear              5   \n",
      "7   Thursday  2021/1/14       23         13.3          Clear              5   \n",
      "8   Thursday  2021/1/14       24         12.8          Clear              5   \n",
      "9     Friday  2021/1/15        1         12.2          Clear              5   \n",
      "10    Friday  2021/1/15        2         12.2          Clear              5   \n",
      "11    Friday  2021/1/15        3         11.7          Clear              5   \n",
      "12    Friday  2021/1/15        4         11.7          Clear              5   \n",
      "13    Friday  2021/1/15        5         12.2          Clear              5   \n",
      "14    Friday  2021/1/15        6         12.2          Clear              5   \n",
      "15    Friday  2021/1/15        7         11.7          Clear              5   \n",
      "16    Friday  2021/1/15        8         11.7          Sunny              5   \n",
      "17    Friday  2021/1/15        9         13.9          Sunny              5   \n",
      "18    Friday  2021/1/15       10         17.2          Sunny              0   \n",
      "19    Friday  2021/1/15       11         19.4          Sunny              0   \n",
      "20    Friday  2021/1/15       12         21.1          Sunny              0   \n",
      "21    Friday  2021/1/15       13         22.2          Sunny              0   \n",
      "22    Friday  2021/1/15       14         22.2          Sunny              0   \n",
      "23    Friday  2021/1/15       15         22.8          Sunny              0   \n",
      "24    Friday  2021/1/15       16         21.7          Sunny              0   \n",
      "25    Friday  2021/1/15       17         20.6          Sunny              0   \n",
      "26    Friday  2021/1/15       18         19.4          Sunny              5   \n",
      "27    Friday  2021/1/15       19         17.8          Clear              5   \n",
      "28    Friday  2021/1/15       20         16.7          Clear              5   \n",
      "29    Friday  2021/1/15       21         15.6          Clear              5   \n",
      "30    Friday  2021/1/15       22         15.0          Clear              5   \n",
      "31    Friday  2021/1/15       23         15.0          Clear              5   \n",
      "32    Friday  2021/1/15       24         15.0   Mostly Clear             10   \n",
      "33  Saturday  2021/1/16        1         15.0   Mostly Clear             10   \n",
      "34  Saturday  2021/1/16        2         15.0  Partly Cloudy             15   \n",
      "35  Saturday  2021/1/16        3         15.0  Partly Cloudy             25   \n",
      "36  Saturday  2021/1/16        4         15.0  Partly Cloudy             20   \n",
      "37  Saturday  2021/1/16        5         15.0  Partly Cloudy             20   \n",
      "38  Saturday  2021/1/16        6         15.0  Partly Cloudy             20   \n",
      "39  Saturday  2021/1/16        7         15.6  Partly Cloudy             25   \n",
      "40  Saturday  2021/1/16        8         15.6  Partly Cloudy             25   \n",
      "41  Saturday  2021/1/16        9         16.7  Partly Cloudy             25   \n",
      "42  Saturday  2021/1/16       10         17.8  Partly Cloudy             25   \n",
      "43  Saturday  2021/1/16       11         18.3  Mostly Cloudy             25   \n",
      "44  Saturday  2021/1/16       12         17.8        Showers             40   \n",
      "45  Saturday  2021/1/16       13         17.8        Showers             55   \n",
      "46  Saturday  2021/1/16       14         16.7     Light Rain             65   \n",
      "47  Saturday  2021/1/16       15         16.1     Light Rain             70   \n",
      "\n",
      "          wind  humidity  \n",
      "0   ESE 10 mph        54  \n",
      "1   ESE 11 mph        60  \n",
      "2     SE 9 mph        64  \n",
      "3     SE 8 mph        71  \n",
      "4     SE 8 mph        76  \n",
      "5     SE 8 mph        78  \n",
      "6     SE 8 mph        81  \n",
      "7     SE 8 mph        79  \n",
      "8     SE 7 mph        81  \n",
      "9     SE 6 mph        82  \n",
      "10   SSE 6 mph        83  \n",
      "11   SSE 5 mph        84  \n",
      "12   SSE 5 mph        83  \n",
      "13   SSE 4 mph        81  \n",
      "14     S 3 mph        81  \n",
      "15     S 3 mph        81  \n",
      "16     S 3 mph        81  \n",
      "17   SSE 2 mph        76  \n",
      "18   SSE 2 mph        66  \n",
      "19    SE 2 mph        61  \n",
      "20    SE 3 mph        56  \n",
      "21   ESE 3 mph        56  \n",
      "22   ESE 4 mph        55  \n",
      "23   ESE 5 mph        57  \n",
      "24     E 5 mph        60  \n",
      "25   ESE 7 mph        66  \n",
      "26   ESE 6 mph        71  \n",
      "27   ESE 5 mph        78  \n",
      "28   ESE 5 mph        82  \n",
      "29   ESE 5 mph        85  \n",
      "30   ESE 5 mph        88  \n",
      "31   ESE 6 mph        85  \n",
      "32   ESE 6 mph        84  \n",
      "33   ESE 6 mph        84  \n",
      "34   ESE 6 mph        85  \n",
      "35   ESE 6 mph        85  \n",
      "36   ESE 6 mph        86  \n",
      "37     E 6 mph        86  \n",
      "38     E 7 mph        85  \n",
      "39     E 7 mph        82  \n",
      "40     E 8 mph        80  \n",
      "41     E 9 mph        79  \n",
      "42    E 12 mph        74  \n",
      "43  ENE 12 mph        71  \n",
      "44  ENE 14 mph        70  \n",
      "45  ENE 14 mph        72  \n",
      "46  ENE 14 mph        76  \n",
      "47  ENE 15 mph        79  \n"
     ]
    }
   ],
   "source": [
    "nangang_data= pd.read_csv('./nangang_future_48hr_weather.csv')\n",
    "print(nangang_data)"
   ]
  },
  {
   "cell_type": "code",
   "execution_count": 99,
   "metadata": {
    "scrolled": false
   },
   "outputs": [],
   "source": [
    "list=[1 for n in range(48)]\n",
    "nang_test=nangang_data[['time_hr', 'temperature', 'humidity']]\n",
    "nang_test.insert(0 ,'station', list, True)"
   ]
  },
  {
   "cell_type": "code",
   "execution_count": 100,
   "metadata": {},
   "outputs": [],
   "source": [
    "nang_RandomForest_predict=test.predict(nang_test)"
   ]
  },
  {
   "cell_type": "code",
   "execution_count": null,
   "metadata": {},
   "outputs": [],
   "source": []
  },
  {
   "cell_type": "code",
   "execution_count": 101,
   "metadata": {},
   "outputs": [],
   "source": [
    "from sklearn import tree"
   ]
  },
  {
   "cell_type": "code",
   "execution_count": 102,
   "metadata": {},
   "outputs": [],
   "source": [
    "clf = tree.DecisionTreeClassifier()"
   ]
  },
  {
   "cell_type": "code",
   "execution_count": 103,
   "metadata": {},
   "outputs": [
    {
     "data": {
      "text/plain": [
       "DecisionTreeClassifier(ccp_alpha=0.0, class_weight=None, criterion='gini',\n",
       "                       max_depth=None, max_features=None, max_leaf_nodes=None,\n",
       "                       min_impurity_decrease=0.0, min_impurity_split=None,\n",
       "                       min_samples_leaf=1, min_samples_split=2,\n",
       "                       min_weight_fraction_leaf=0.0, presort='deprecated',\n",
       "                       random_state=None, splitter='best')"
      ]
     },
     "execution_count": 103,
     "metadata": {},
     "output_type": "execute_result"
    }
   ],
   "source": [
    "clf.fit(X_train, Y_train)"
   ]
  },
  {
   "cell_type": "code",
   "execution_count": 104,
   "metadata": {},
   "outputs": [],
   "source": [
    "nang_Tree_predict=clf.predict(nang_test)"
   ]
  },
  {
   "cell_type": "code",
   "execution_count": 105,
   "metadata": {},
   "outputs": [],
   "source": [
    "label2station={1:'南港',2:'台北車站', 3:'板橋'}\n",
    "\n",
    "station=[]\n",
    "for i in nang_test['station']:\n",
    "    station.append(str(label2station[i]))\n",
    "    \n",
    "t=[]\n",
    "for i in nang_test['time_hr']:\n",
    "    t.append(i)\n"
   ]
  },
  {
   "cell_type": "code",
   "execution_count": null,
   "metadata": {},
   "outputs": [],
   "source": []
  },
  {
   "cell_type": "code",
   "execution_count": 106,
   "metadata": {},
   "outputs": [],
   "source": [
    "from sklearn import neighbors"
   ]
  },
  {
   "cell_type": "code",
   "execution_count": 107,
   "metadata": {},
   "outputs": [],
   "source": [
    "knn_model = neighbors.KNeighborsClassifier()"
   ]
  },
  {
   "cell_type": "code",
   "execution_count": 108,
   "metadata": {},
   "outputs": [],
   "source": [
    "knn_clf=knn_model.fit(X_train, Y_train)"
   ]
  },
  {
   "cell_type": "code",
   "execution_count": 109,
   "metadata": {},
   "outputs": [],
   "source": [
    "nang_Knn_predict=knn_clf.predict(nang_test)"
   ]
  },
  {
   "cell_type": "code",
   "execution_count": null,
   "metadata": {},
   "outputs": [],
   "source": []
  },
  {
   "cell_type": "code",
   "execution_count": 110,
   "metadata": {},
   "outputs": [],
   "source": [
    "output_test={'日期': nangang_data['date'].tolist(), '站名': station, '時段': t, '預測人數': nang_Tree_predict.tolist()}\n",
    "df = pd.DataFrame(output_test)\n",
    "df.to_csv('test_Tree.csv',index=False)\n"
   ]
  },
  {
   "cell_type": "code",
   "execution_count": 111,
   "metadata": {},
   "outputs": [
    {
     "name": "stdout",
     "output_type": "stream",
     "text": [
      "           日期  站名  時段  預測人數\n",
      "0   2021/1/14  南港  16   896\n",
      "1   2021/1/14  南港  17   591\n",
      "2   2021/1/14  南港  18  1086\n",
      "3   2021/1/14  南港  19   967\n",
      "4   2021/1/14  南港  20   518\n",
      "5   2021/1/14  南港  21   755\n",
      "6   2021/1/14  南港  22   789\n",
      "7   2021/1/14  南港  23   673\n",
      "8   2021/1/14  南港  24   279\n",
      "9   2021/1/15  南港   1    88\n",
      "10  2021/1/15  南港   2     2\n",
      "11  2021/1/15  南港   3     2\n",
      "12  2021/1/15  南港   4     2\n",
      "13  2021/1/15  南港   5     0\n",
      "14  2021/1/15  南港   6     0\n",
      "15  2021/1/15  南港   7    87\n",
      "16  2021/1/15  南港   8   244\n",
      "17  2021/1/15  南港   9  2221\n",
      "18  2021/1/15  南港  10   578\n",
      "19  2021/1/15  南港  11   551\n",
      "20  2021/1/15  南港  12   629\n",
      "21  2021/1/15  南港  13   580\n",
      "22  2021/1/15  南港  14   580\n",
      "23  2021/1/15  南港  15   596\n",
      "24  2021/1/15  南港  16   580\n",
      "25  2021/1/15  南港  17   702\n",
      "26  2021/1/15  南港  18  2403\n",
      "27  2021/1/15  南港  19  1065\n",
      "28  2021/1/15  南港  20  1452\n",
      "29  2021/1/15  南港  21   870\n",
      "30  2021/1/15  南港  22   266\n",
      "31  2021/1/15  南港  23   266\n",
      "32  2021/1/15  南港  24   266\n",
      "33  2021/1/16  南港   1    94\n",
      "34  2021/1/16  南港   2     0\n",
      "35  2021/1/16  南港   3     0\n",
      "36  2021/1/16  南港   4     0\n",
      "37  2021/1/16  南港   5     0\n",
      "38  2021/1/16  南港   6     0\n",
      "39  2021/1/16  南港   7   137\n",
      "40  2021/1/16  南港   8   104\n",
      "41  2021/1/16  南港   9  2200\n",
      "42  2021/1/16  南港  10  1112\n",
      "43  2021/1/16  南港  11   607\n",
      "44  2021/1/16  南港  12   636\n",
      "45  2021/1/16  南港  13  1065\n",
      "46  2021/1/16  南港  14   557\n",
      "47  2021/1/16  南港  15   557\n"
     ]
    }
   ],
   "source": [
    "data= pd.read_csv('./test_Tree.csv')\n",
    "print(data)"
   ]
  },
  {
   "cell_type": "code",
   "execution_count": 112,
   "metadata": {},
   "outputs": [],
   "source": [
    "output_test={'日期': nangang_data['date'].tolist(), '站名': station, '時段': t, '預測人數': nang_Knn_predict.tolist()}\n",
    "df = pd.DataFrame(output_test)\n",
    "df.to_csv('test_KNN.csv',index=False)\n"
   ]
  },
  {
   "cell_type": "code",
   "execution_count": 113,
   "metadata": {
    "scrolled": true
   },
   "outputs": [
    {
     "name": "stdout",
     "output_type": "stream",
     "text": [
      "           日期  站名  時段  預測人數\n",
      "0   2021/1/14  南港  16   896\n",
      "1   2021/1/14  南港  17   916\n",
      "2   2021/1/14  南港  18   951\n",
      "3   2021/1/14  南港  19  1212\n",
      "4   2021/1/14  南港  20   779\n",
      "5   2021/1/14  南港  21   575\n",
      "6   2021/1/14  南港  22   626\n",
      "7   2021/1/14  南港  23   673\n",
      "8   2021/1/14  南港  24   196\n",
      "9   2021/1/15  南港   1     2\n",
      "10  2021/1/15  南港   2     2\n",
      "11  2021/1/15  南港   3     2\n",
      "12  2021/1/15  南港   4     0\n",
      "13  2021/1/15  南港   5     0\n",
      "14  2021/1/15  南港   6     0\n",
      "15  2021/1/15  南港   7     0\n",
      "16  2021/1/15  南港   8     0\n",
      "17  2021/1/15  南港   9  2221\n",
      "18  2021/1/15  南港  10   497\n",
      "19  2021/1/15  南港  11   263\n",
      "20  2021/1/15  南港  12   289\n",
      "21  2021/1/15  南港  13   340\n",
      "22  2021/1/15  南港  14   528\n",
      "23  2021/1/15  南港  15   543\n",
      "24  2021/1/15  南港  16   543\n",
      "25  2021/1/15  南港  17   580\n",
      "26  2021/1/15  南港  18  1539\n",
      "27  2021/1/15  南港  19   464\n",
      "28  2021/1/15  南港  20   288\n",
      "29  2021/1/15  南港  21  1202\n",
      "30  2021/1/15  南港  22   627\n",
      "31  2021/1/15  南港  23   279\n",
      "32  2021/1/15  南港  24   266\n",
      "33  2021/1/16  南港   1     2\n",
      "34  2021/1/16  南港   2     2\n",
      "35  2021/1/16  南港   3     0\n",
      "36  2021/1/16  南港   4     0\n",
      "37  2021/1/16  南港   5     0\n",
      "38  2021/1/16  南港   6     0\n",
      "39  2021/1/16  南港   7     0\n",
      "40  2021/1/16  南港   8   104\n",
      "41  2021/1/16  南港   9  2592\n",
      "42  2021/1/16  南港  10  1033\n",
      "43  2021/1/16  南港  11   457\n",
      "44  2021/1/16  南港  12   457\n",
      "45  2021/1/16  南港  13   457\n",
      "46  2021/1/16  南港  14   509\n",
      "47  2021/1/16  南港  15   515\n"
     ]
    }
   ],
   "source": [
    "data= pd.read_csv('./test_KNN.csv')\n",
    "print(data)"
   ]
  },
  {
   "cell_type": "code",
   "execution_count": 114,
   "metadata": {},
   "outputs": [],
   "source": [
    "output_test={'日期': nangang_data['date'].tolist(), '站名': station, '時段': t, '預測人數': nang_RandomForest_predict.tolist()}\n",
    "df = pd.DataFrame(output_test)\n",
    "df.to_csv('test_RandomForest.csv',index=False)\n"
   ]
  },
  {
   "cell_type": "code",
   "execution_count": 115,
   "metadata": {},
   "outputs": [
    {
     "name": "stdout",
     "output_type": "stream",
     "text": [
      "           日期  站名  時段  預測人數\n",
      "0   2021/1/14  南港  16   959\n",
      "1   2021/1/14  南港  17   916\n",
      "2   2021/1/14  南港  18  1065\n",
      "3   2021/1/14  南港  19  1388\n",
      "4   2021/1/14  南港  20   967\n",
      "5   2021/1/14  南港  21   755\n",
      "6   2021/1/14  南港  22   626\n",
      "7   2021/1/14  南港  23   673\n",
      "8   2021/1/14  南港  24   376\n",
      "9   2021/1/15  南港   1    64\n",
      "10  2021/1/15  南港   2     2\n",
      "11  2021/1/15  南港   3     2\n",
      "12  2021/1/15  南港   4     2\n",
      "13  2021/1/15  南港   5     0\n",
      "14  2021/1/15  南港   6     0\n",
      "15  2021/1/15  南港   7    87\n",
      "16  2021/1/15  南港   8   184\n",
      "17  2021/1/15  南港   9   566\n",
      "18  2021/1/15  南港  10   497\n",
      "19  2021/1/15  南港  11   551\n",
      "20  2021/1/15  南港  12   555\n",
      "21  2021/1/15  南港  13   528\n",
      "22  2021/1/15  南港  14   540\n",
      "23  2021/1/15  南港  15   596\n",
      "24  2021/1/15  南港  16   580\n",
      "25  2021/1/15  南港  17   890\n",
      "26  2021/1/15  南港  18   410\n",
      "27  2021/1/15  南港  19  1877\n",
      "28  2021/1/15  南港  20  1295\n",
      "29  2021/1/15  南港  21  1202\n",
      "30  2021/1/15  南港  22   666\n",
      "31  2021/1/15  南港  23   873\n",
      "32  2021/1/15  南港  24   266\n",
      "33  2021/1/16  南港   1    94\n",
      "34  2021/1/16  南港   2     2\n",
      "35  2021/1/16  南港   3     2\n",
      "36  2021/1/16  南港   4     0\n",
      "37  2021/1/16  南港   5     0\n",
      "38  2021/1/16  南港   6     0\n",
      "39  2021/1/16  南港   7   201\n",
      "40  2021/1/16  南港   8   104\n",
      "41  2021/1/16  南港   9  2200\n",
      "42  2021/1/16  南港  10  1033\n",
      "43  2021/1/16  南港  11   607\n",
      "44  2021/1/16  南港  12   457\n",
      "45  2021/1/16  南港  13   616\n",
      "46  2021/1/16  南港  14   557\n",
      "47  2021/1/16  南港  15   557\n"
     ]
    }
   ],
   "source": [
    "data= pd.read_csv('./test_RandomForest.csv')\n",
    "print(data)"
   ]
  },
  {
   "cell_type": "code",
   "execution_count": null,
   "metadata": {},
   "outputs": [],
   "source": []
  },
  {
   "cell_type": "code",
   "execution_count": null,
   "metadata": {},
   "outputs": [],
   "source": []
  },
  {
   "cell_type": "code",
   "execution_count": null,
   "metadata": {},
   "outputs": [],
   "source": []
  }
 ],
 "metadata": {
  "kernelspec": {
   "display_name": "Python 3",
   "language": "python",
   "name": "python3"
  },
  "language_info": {
   "codemirror_mode": {
    "name": "ipython",
    "version": 3
   },
   "file_extension": ".py",
   "mimetype": "text/x-python",
   "name": "python",
   "nbconvert_exporter": "python",
   "pygments_lexer": "ipython3",
   "version": "3.7.3"
  }
 },
 "nbformat": 4,
 "nbformat_minor": 4
}
